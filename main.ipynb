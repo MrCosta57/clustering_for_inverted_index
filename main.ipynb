{
 "cells": [
  {
   "cell_type": "markdown",
   "metadata": {},
   "source": [
    "# Information Retrieval and Web Search\n",
    "<p>\n",
    "Course Project - Clustering documents to compress inverted index<br>\n",
    "Giovanni Costa - 880892\n",
    "</p>"
   ]
  },
  {
   "cell_type": "code",
   "execution_count": null,
   "metadata": {
    "execution": {
     "iopub.execute_input": "2023-08-17T07:44:01.265888Z",
     "iopub.status.busy": "2023-08-17T07:44:01.265560Z",
     "iopub.status.idle": "2023-08-17T07:44:03.658152Z",
     "shell.execute_reply": "2023-08-17T07:44:03.657091Z"
    }
   },
   "outputs": [],
   "source": [
    "import numpy as np\n",
    "import json\n",
    "import multiprocessing\n",
    "from sklearn.cluster import MiniBatchKMeans\n",
    "from sklearn.mixture import GaussianMixture\n",
    "\n",
    "from sklearn.datasets import fetch_rcv1\n",
    "from utils import random_search, plot_results\n",
    "from Indexer import Indexer\n",
    "\n",
    "input_path=\"input/\"\n",
    "output_path=\"output/\"\n",
    "CORE_NUM=multiprocessing.cpu_count()\n",
    "np.random.seed(42)"
   ]
  },
  {
   "cell_type": "markdown",
   "metadata": {},
   "source": [
    "## Data fetching and index building"
   ]
  },
  {
   "cell_type": "code",
   "execution_count": null,
   "metadata": {
    "execution": {
     "iopub.execute_input": "2023-08-17T07:44:03.662658Z",
     "iopub.status.busy": "2023-08-17T07:44:03.662184Z",
     "iopub.status.idle": "2023-08-17T07:44:10.091362Z",
     "shell.execute_reply": "2023-08-17T07:44:10.089567Z"
    }
   },
   "outputs": [],
   "source": [
    "sparse_docs, _=fetch_rcv1(return_X_y=True) #TF-IDF matrix\n",
    "sparse_docs=sparse_docs.astype(\"float32\")\n",
    "print(\"TF-IDF info:\")\n",
    "print(\"Shape: \", sparse_docs.shape)\n",
    "print(\"Size: {:.3f} MB\".format(sparse_docs.data.nbytes/ (1024**2)))"
   ]
  },
  {
   "cell_type": "code",
   "execution_count": null,
   "metadata": {
    "execution": {
     "iopub.execute_input": "2023-08-17T07:44:10.147931Z",
     "iopub.status.busy": "2023-08-17T07:44:10.147380Z",
     "iopub.status.idle": "2023-08-17T07:44:28.903220Z",
     "shell.execute_reply": "2023-08-17T07:44:28.902161Z"
    }
   },
   "outputs": [],
   "source": [
    "std_inverted_index=Indexer.get_dict_from_csr_matrix(sparse_docs) #build the inverted index from sparse matrix"
   ]
  },
  {
   "cell_type": "markdown",
   "metadata": {},
   "source": [
    "## MiniBatch K-Means Method"
   ]
  },
  {
   "cell_type": "code",
   "execution_count": null,
   "metadata": {
    "execution": {
     "iopub.execute_input": "2023-08-17T07:44:28.907701Z",
     "iopub.status.busy": "2023-08-17T07:44:28.907404Z",
     "iopub.status.idle": "2023-08-17T07:44:28.913530Z",
     "shell.execute_reply": "2023-08-17T07:44:28.912720Z"
    }
   },
   "outputs": [],
   "source": [
    "n_iter=50\n",
    "param_list=[i for i in range(2, 151)]\n",
    "params_k_means={\"n_clusters\": param_list}\n",
    "k_means_obj=MiniBatchKMeans(batch_size=512*CORE_NUM, n_init=\"auto\") #For faster computations, you can set the batch_size greater than 256 * number of cores to enable parallelism on all cores"
   ]
  },
  {
   "cell_type": "code",
   "execution_count": null,
   "metadata": {
    "execution": {
     "iopub.execute_input": "2023-08-17T07:44:28.916962Z",
     "iopub.status.busy": "2023-08-17T07:44:28.916679Z",
     "iopub.status.idle": "2023-08-17T09:22:12.087683Z",
     "shell.execute_reply": "2023-08-17T09:22:12.086477Z"
    }
   },
   "outputs": [],
   "source": [
    "best_k_means, best_k_means_remapping, log_dict_kmeans=random_search(k_means_obj, sparse_docs, std_inverted_index, params_k_means, n_iter, True)"
   ]
  },
  {
   "cell_type": "code",
   "execution_count": null,
   "metadata": {
    "execution": {
     "iopub.execute_input": "2023-08-17T09:22:12.092966Z",
     "iopub.status.busy": "2023-08-17T09:22:12.092625Z",
     "iopub.status.idle": "2023-08-17T09:22:12.099684Z",
     "shell.execute_reply": "2023-08-17T09:22:12.098687Z"
    }
   },
   "outputs": [],
   "source": [
    "with open(output_path+\"log_dict_kmeans.json\", \"w\") as file:\n",
    "    json.dump(log_dict_kmeans, file)"
   ]
  },
  {
   "cell_type": "markdown",
   "metadata": {},
   "source": [
    "## Gaussian Mixture method"
   ]
  },
  {
   "cell_type": "code",
   "execution_count": null,
   "metadata": {
    "execution": {
     "iopub.execute_input": "2023-08-17T09:22:12.103928Z",
     "iopub.status.busy": "2023-08-17T09:22:12.103591Z",
     "iopub.status.idle": "2023-08-17T09:22:12.109413Z",
     "shell.execute_reply": "2023-08-17T09:22:12.108621Z"
    }
   },
   "outputs": [],
   "source": [
    "n_iter=50\n",
    "param_list=[i for i in range(2, 151)]\n",
    "params_mixture={\"n_components\": param_list}\n",
    "mixture_obj=GaussianMixture(covariance_type=\"diag\", init_params='k-means++')"
   ]
  },
  {
   "cell_type": "code",
   "execution_count": null,
   "metadata": {
    "execution": {
     "iopub.execute_input": "2023-08-17T09:22:12.112719Z",
     "iopub.status.busy": "2023-08-17T09:22:12.112397Z",
     "iopub.status.idle": "2023-08-18T02:20:58.896919Z",
     "shell.execute_reply": "2023-08-18T02:20:58.895649Z"
    }
   },
   "outputs": [],
   "source": [
    "best_mixture, best_mixture_remapping, log_dict_mixture=random_search(mixture_obj, sparse_docs, std_inverted_index, params_mixture, n_iter, True)"
   ]
  },
  {
   "cell_type": "code",
   "execution_count": null,
   "metadata": {
    "execution": {
     "iopub.execute_input": "2023-08-18T02:20:58.905966Z",
     "iopub.status.busy": "2023-08-18T02:20:58.905371Z",
     "iopub.status.idle": "2023-08-18T02:20:58.915445Z",
     "shell.execute_reply": "2023-08-18T02:20:58.914426Z"
    }
   },
   "outputs": [],
   "source": [
    "with open(output_path+\"log_dict_mixture.json\", \"w\") as file:\n",
    "    json.dump(log_dict_mixture, file)"
   ]
  },
  {
   "cell_type": "markdown",
   "metadata": {},
   "source": [
    "## Results"
   ]
  },
  {
   "cell_type": "code",
   "execution_count": null,
   "metadata": {},
   "outputs": [],
   "source": [
    "log_dict_kmeans=None\n",
    "log_dict_mixture=None\n",
    "with open(output_path+\"log_dict_kmeans.json\") as f1, open(output_path+\"log_dict_mixture.json\") as f2:\n",
    "    log_dict_kmeans=json.load(f1)\n",
    "    log_dict_mixture=json.load(f2)"
   ]
  },
  {
   "cell_type": "markdown",
   "metadata": {},
   "source": [
    "### MiniBatch K-Means"
   ]
  },
  {
   "cell_type": "code",
   "execution_count": null,
   "metadata": {
    "execution": {
     "iopub.execute_input": "2023-08-18T02:20:58.920006Z",
     "iopub.status.busy": "2023-08-18T02:20:58.919666Z",
     "iopub.status.idle": "2023-08-18T02:21:03.858848Z",
     "shell.execute_reply": "2023-08-18T02:21:03.857912Z"
    }
   },
   "outputs": [],
   "source": [
    "plot_results(log_dict_kmeans, \"MiniBatch K-Means\")"
   ]
  },
  {
   "cell_type": "markdown",
   "metadata": {},
   "source": [
    "### Gaussian Mixture"
   ]
  },
  {
   "cell_type": "code",
   "execution_count": null,
   "metadata": {
    "execution": {
     "iopub.execute_input": "2023-08-18T02:21:03.863494Z",
     "iopub.status.busy": "2023-08-18T02:21:03.863190Z",
     "iopub.status.idle": "2023-08-18T02:21:06.101659Z",
     "shell.execute_reply": "2023-08-18T02:21:06.100391Z"
    }
   },
   "outputs": [],
   "source": [
    "plot_results(log_dict_mixture, \"Gaussian Mixture\")"
   ]
  }
 ],
 "metadata": {
  "kernelspec": {
   "display_name": "ML-base",
   "language": "python",
   "name": "python3"
  },
  "language_info": {
   "codemirror_mode": {
    "name": "ipython",
    "version": 3
   },
   "file_extension": ".py",
   "mimetype": "text/x-python",
   "name": "python",
   "nbconvert_exporter": "python",
   "pygments_lexer": "ipython3",
   "version": "3.11.4"
  }
 },
 "nbformat": 4,
 "nbformat_minor": 2
}
