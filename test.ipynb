{
 "cells": [
  {
   "cell_type": "code",
   "execution_count": null,
   "metadata": {},
   "outputs": [],
   "source": [
    "import pandas as pd\n",
    "import numpy as np\n",
    "from sklearn_extra.cluster import KMedoids\n",
    "from sklearn.cluster import DBSCAN\n",
    "from sklearn.metrics import silhouette_score\n",
    "from sklearn.model_selection import RandomizedSearchCV\n",
    "from utils import parse_file_list, get_tfidf_repr"
   ]
  },
  {
   "cell_type": "code",
   "execution_count": null,
   "metadata": {},
   "outputs": [],
   "source": [
    "df=parse_file_list()\n",
    "sparse_doc=get_tfidf_repr(df)"
   ]
  },
  {
   "cell_type": "code",
   "execution_count": null,
   "metadata": {},
   "outputs": [],
   "source": [
    "params_kmedoids={\"n_clusters\": [i for i in range(2, 35)]}\n",
    "k_medoids=KMedoids(metric=\"cosine\")\n",
    "searcher_kmedoids=RandomizedSearchCV(k_medoids, scoring=silhouette_score, n_iter=20, param_distributions=params_kmedoids, cv=5, n_jobs=-1)\n",
    "searcher_kmedoids.fit(sparse_doc)\n",
    "print(\"Best n_clusters: \", searcher_kmedoids.best_params_[\"n_clusters\"])\n",
    "print(\"Best silhouette_score: \", searcher_kmedoids.best_score_)"
   ]
  },
  {
   "cell_type": "code",
   "execution_count": null,
   "metadata": {},
   "outputs": [],
   "source": [
    "params_dbscan={\"min_samples\": [i for i in range(2, 35)],\n",
    "        \"eps\": [i for i in np.arange(0.1, 5, 0.1)]}\n",
    "dbscan=DBSCAN(metric=\"cosine\")\n",
    "searcher_dbscan=RandomizedSearchCV(k_medoids, scoring=silhouette_score, n_iter=20, param_distributions=params_dbscan, cv=5, n_jobs=-1)\n",
    "searcher_dbscan.fit(sparse_doc)\n",
    "print(\"Best params: \", searcher_dbscan.best_params_)\n",
    "print(\"Best silhouette_score: \", searcher_dbscan.best_score_)"
   ]
  },
  {
   "cell_type": "code",
   "execution_count": null,
   "metadata": {},
   "outputs": [],
   "source": []
  }
 ],
 "metadata": {
  "kernelspec": {
   "display_name": "ML-base",
   "language": "python",
   "name": "python3"
  },
  "language_info": {
   "codemirror_mode": {
    "name": "ipython",
    "version": 3
   },
   "file_extension": ".py",
   "mimetype": "text/x-python",
   "name": "python",
   "nbconvert_exporter": "python",
   "pygments_lexer": "ipython3",
   "version": "3.11.4"
  },
  "orig_nbformat": 4
 },
 "nbformat": 4,
 "nbformat_minor": 2
}
